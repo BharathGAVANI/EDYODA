{
 "cells": [
  {
   "cell_type": "code",
   "execution_count": null,
   "id": "3c56daec",
   "metadata": {},
   "outputs": [],
   "source": [
    "import pandas as pd\n",
    "data = pd.read_csv('Data/HR_comma_sep.csv.txt')\n",
    "print(data.head())\n",
    "\n",
    "print(data.info())\n",
    "\n",
    "print(data.describe())\n",
    "missing_values = data.isnull().sum()\n",
    "data['column_name'].fillna(data['column_name'].mean(), inplace=True)\n",
    "data = pd.get_dummies(data, columns=['categorical_column'], drop_first=True)\n",
    "import matplotlib.pyplot as plt\n",
    "\n",
    "data['numeric_column'].hist(bins=20)\n",
    "plt.xlabel('Numeric Column')\n",
    "plt.ylabel('Frequency')\n",
    "plt.title('Histogram of Numeric Column')\n",
    "plt.show()\n",
    "data['categorical_column'].value_counts().plot(kind='bar')\n",
    "plt.xlabel('Categories')\n",
    "plt.ylabel('Count')\n",
    "plt.title('Bar Chart of Categorical Column')\n",
    "plt.show()\n",
    "import seaborn as sns\n",
    "\n",
    "correlation_matrix = data.corr()\n",
    "sns.heatmap(correlation_matrix, annot=True, cmap='coolwarm')\n",
    "plt.title('Correlation Matrix')\n",
    "plt.show()\n",
    "from sklearn.model_selection import train_test_split\n",
    "\n",
    "X = data.drop(columns=['left'])  \n",
    "y = data['left']  \n",
    "\n",
    "X_train, X_test, y_train, y_test = train_test_split(X, y, test_size=0.2, random_state=42)\n",
    "from sklearn.linear_model import LogisticRegression\n",
    "from sklearn.metrics import accuracy_score, classification_report\n",
    "model = LogisticRegression()\n",
    "model.fit(X_train, y_train)\n",
    "y_pred = model.predict(X_test)\n",
    "accuracy = accuracy_score(y_test, y_pred)\n",
    "report = classification_report(y_test, y_pred)\n",
    "\n",
    "print(f'Accuracy: {accuracy:.2f}')\n",
    "print('Classification Report:\\n', report)\n",
    "\n",
    "\n",
    "\n",
    "\n",
    "\n"
   ]
  }
 ],
 "metadata": {
  "kernelspec": {
   "display_name": "Python 3 (ipykernel)",
   "language": "python",
   "name": "python3"
  },
  "language_info": {
   "codemirror_mode": {
    "name": "ipython",
    "version": 3
   },
   "file_extension": ".py",
   "mimetype": "text/x-python",
   "name": "python",
   "nbconvert_exporter": "python",
   "pygments_lexer": "ipython3",
   "version": "3.10.9"
  }
 },
 "nbformat": 4,
 "nbformat_minor": 5
}
