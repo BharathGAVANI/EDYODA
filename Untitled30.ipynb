{
 "cells": [
  {
   "cell_type": "code",
   "execution_count": 1,
   "id": "1750c64a",
   "metadata": {},
   "outputs": [
    {
     "name": "stdout",
     "output_type": "stream",
     "text": [
      "[0. 0. 0. 0. 1. 0. 0. 0. 0. 0.]\n"
     ]
    }
   ],
   "source": [
    "#1. Create a null vector of size 10 but the fifth value which is 1.\n",
    "import numpy as np\n",
    "\n",
    "null_vector = np.zeros(10)\n",
    "null_vector[4] = 1\n",
    "\n",
    "print(null_vector)\n",
    "\n"
   ]
  },
  {
   "cell_type": "code",
   "execution_count": 2,
   "id": "a9c88113",
   "metadata": {},
   "outputs": [
    {
     "name": "stdout",
     "output_type": "stream",
     "text": [
      "[10 11 12 13 14 15 16 17 18 19 20 21 22 23 24 25 26 27 28 29 30 31 32 33\n",
      " 34 35 36 37 38 39 40 41 42 43 44 45 46 47 48 49]\n"
     ]
    }
   ],
   "source": [
    "#2. Create a vector with values ranging from 10 to 49.\n",
    "import numpy as np\n",
    "\n",
    "vector = np.arange(10, 50)\n",
    "\n",
    "print(vector)\n",
    "\n"
   ]
  },
  {
   "cell_type": "code",
   "execution_count": 3,
   "id": "e198aef1",
   "metadata": {},
   "outputs": [
    {
     "name": "stdout",
     "output_type": "stream",
     "text": [
      "[[0 1 2]\n",
      " [3 4 5]\n",
      " [6 7 8]]\n"
     ]
    }
   ],
   "source": [
    "#3. Create a 3x3 matrix with values ranging from 0 to 8\n",
    "import numpy as np\n",
    "\n",
    "matrix = np.arange(9).reshape(3, 3)\n",
    "\n",
    "print(matrix)\n",
    "\n"
   ]
  },
  {
   "cell_type": "code",
   "execution_count": 4,
   "id": "ddcabdc1",
   "metadata": {},
   "outputs": [
    {
     "name": "stdout",
     "output_type": "stream",
     "text": [
      "(array([0, 1, 4], dtype=int64),)\n"
     ]
    }
   ],
   "source": [
    "#4. Find indices of non-zero elements from [1,2,0,0,4,0]\n",
    "import numpy as np\n",
    "\n",
    "arr = np.array([1, 2, 0, 0, 4, 0])\n",
    "non_zero_indices = np.nonzero(arr)\n",
    "\n",
    "print(non_zero_indices)\n",
    "\n"
   ]
  },
  {
   "cell_type": "code",
   "execution_count": 5,
   "id": "4f5e792f",
   "metadata": {},
   "outputs": [
    {
     "name": "stdout",
     "output_type": "stream",
     "text": [
      "Array:\n",
      "[[0.86508272 0.51464841 0.32435774 0.03186681 0.19256508 0.66859997\n",
      "  0.77741034 0.42297557 0.58707081 0.50383182]\n",
      " [0.11334474 0.42060989 0.55074548 0.79181212 0.32641805 0.759915\n",
      "  0.35847348 0.80000531 0.21049911 0.1589892 ]\n",
      " [0.56464265 0.06517287 0.60731159 0.76204336 0.48793768 0.19808638\n",
      "  0.44371035 0.05900448 0.849345   0.2698985 ]\n",
      " [0.58772419 0.18840548 0.83829432 0.02806833 0.78080856 0.42954879\n",
      "  0.28771994 0.69059686 0.02887086 0.27488644]\n",
      " [0.16693713 0.99187896 0.19660149 0.94071473 0.54342975 0.074168\n",
      "  0.9827407  0.68654064 0.72384964 0.00517544]\n",
      " [0.01365745 0.1712392  0.26914786 0.27820647 0.46656927 0.90345754\n",
      "  0.46081928 0.46174477 0.46850433 0.98226246]\n",
      " [0.17252594 0.37648824 0.64592877 0.93954859 0.63149996 0.07258192\n",
      "  0.38492517 0.34996041 0.23649072 0.73184773]\n",
      " [0.59929657 0.45040941 0.76693371 0.44941105 0.52271955 0.45458369\n",
      "  0.52630426 0.55135876 0.77619807 0.70359867]\n",
      " [0.18535513 0.92127064 0.25886792 0.20433659 0.63826787 0.90447727\n",
      "  0.70281595 0.25584168 0.50701652 0.60419414]\n",
      " [0.06266554 0.32020311 0.44255934 0.32186918 0.74158454 0.23338731\n",
      "  0.13747587 0.55235748 0.36175129 0.50551134]]\n",
      "Minimum value: 0.005175443937634805\n",
      "Maximum value: 0.9918789624839038\n"
     ]
    }
   ],
   "source": [
    "#5. Create a 10x10 array with random values and find the minimum and maximum values.\n",
    "import numpy as np\n",
    "array = np.random.rand(10, 10)\n",
    "minimum_value = np.min(array)\n",
    "maximum_value = np.max(array)\n",
    "\n",
    "print(\"Array:\")\n",
    "print(array)\n",
    "print(\"Minimum value:\", minimum_value)\n",
    "print(\"Maximum value:\", maximum_value)\n",
    "\n"
   ]
  },
  {
   "cell_type": "code",
   "execution_count": null,
   "id": "ed27fe7d",
   "metadata": {},
   "outputs": [],
   "source": []
  }
 ],
 "metadata": {
  "kernelspec": {
   "display_name": "Python 3 (ipykernel)",
   "language": "python",
   "name": "python3"
  },
  "language_info": {
   "codemirror_mode": {
    "name": "ipython",
    "version": 3
   },
   "file_extension": ".py",
   "mimetype": "text/x-python",
   "name": "python",
   "nbconvert_exporter": "python",
   "pygments_lexer": "ipython3",
   "version": "3.10.9"
  }
 },
 "nbformat": 4,
 "nbformat_minor": 5
}
